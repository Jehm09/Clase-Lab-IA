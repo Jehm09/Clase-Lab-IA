{
  "cells": [
    {
      "cell_type": "markdown",
      "metadata": {
        "id": "Z77R-epE0yaH",
        "colab_type": "text"
      },
      "source": [
        "# Knapsack problem\n",
        "\n",
        "Given a list of items and a bag maximum capacity, find the best combination of items.\n",
        "\n",
        "The algorithm to complete:"
      ]
    },
    {
      "cell_type": "code",
      "metadata": {
        "id": "Iqigakkn0hXE",
        "colab_type": "code",
        "colab": {}
      },
      "source": [
        "import random\n",
        "import math\n",
        "import functools \n",
        "\n",
        "class KnapsackGenetic:\n",
        "  def __init__(self, params):\n",
        "    self.ALL_NUMBERS = list(range(params[\"max_per_item\"] + 1))\n",
        "    self.params = params\n",
        "    self.specimen = [None] * self.params[\"generation_size\"]\n",
        "\n",
        "    self.create_initial_population()\n",
        "\n",
        "  def create_initial_population(self):\n",
        "    self.specimen = list(map(\n",
        "        lambda _: list(map(\n",
        "            lambda _: random.choice(self.ALL_NUMBERS),\n",
        "            [None] * len(self.params[\"items\"])\n",
        "        )),\n",
        "        self.specimen\n",
        "    ))\n",
        "\n",
        "  def fitness(self, specimen):\n",
        "    val = 0\n",
        "    wgth = 0\n",
        "    #maximo valor posible para obtener sin restricion de peso.\n",
        "    max_value = sum(map(lambda x: x.value*self.params[\"max_per_item\"], self.params[\"items\"]))\n",
        "    for i in range(len(specimen)):\n",
        "      val += specimen[i]*self.params[\"items\"][i].value\n",
        "      wgth += specimen[i]*self.params[\"items\"][i].weight\n",
        "    return 0 if wgth > self.params[\"max_weight\"] else val / max_value\n",
        "\n",
        "  def is_converged(self):\n",
        "    if any(self.fitness(specimen) >= self.params[\"fit_threshold\"] for specimen in self.specimen):\n",
        "      return True\n",
        "\n",
        "    return False\n",
        "\n",
        "  def get_fit(self):\n",
        "    evaluations = self.fitness_all()\n",
        "\n",
        "    max_evaluation = max(evaluations)\n",
        "\n",
        "    max_index = evaluations.index(max_evaluation)\n",
        "\n",
        "    return self.specimen[max_index], max_evaluation\n",
        "\n",
        "  def fitness_all(self):\n",
        "    return list(map(self.fitness, self.specimen))\n",
        "\n",
        "  def select_specimen(self, specimen_evaluations):\n",
        "    specimen_and_evaluations = list(zip(self.specimen, specimen_evaluations))\n",
        "\n",
        "    specimen_and_evaluations.sort(key=lambda e: e[1], reverse = True)\n",
        "\n",
        "    n_top = int(math.ceil(len(self.specimen) * params[\"select_top\"]))\n",
        "\n",
        "    return list(map(lambda s: s[0], specimen_and_evaluations[:n_top]))\n",
        "  \n",
        "  def mutate(self, specimen):\n",
        "    n_digits = int(params[\"mutation_percentage\"] * (len(specimen)))\n",
        "\n",
        "    digit_indexes = random.sample(list(range(len(specimen))), n_digits)\n",
        "\n",
        "    mutated = specimen[:]\n",
        "\n",
        "    for idx in digit_indexes:\n",
        "      mutated[idx] = random.randint(0, self.params[\"max_per_item\"])\n",
        "\n",
        "    return mutated\n",
        "    \n",
        "  def generate_children(self, selected_specimen):  \n",
        "    mutated_specimen = [None] * len(self.specimen)\n",
        "\n",
        "    for i in range(len(mutated_specimen)):\n",
        "      mutated_specimen[i] = self.mutate(random.choice(selected_specimen))\n",
        "\n",
        "    return mutated_specimen\n",
        "\n",
        "  def run(self):\n",
        "    generation_number = 1\n",
        "    \n",
        "    best = None\n",
        "    max_eval = -0xffffff\n",
        "\n",
        "    while generation_number <= self.params[\"max_generations\"] and not self.is_converged():\n",
        "      top_generation = self.get_fit()\n",
        "      top_str = \"\".join(str(top_generation[0]))\n",
        "      \n",
        "      if(max_eval < top_generation[1]):\n",
        "        best = top_generation[0]\n",
        "        max_eval = top_generation[1]\n",
        "\n",
        "      print(f\"Generation #{generation_number}:\\t{top_str}\\t{top_generation[1]}\")\n",
        "\n",
        "      specimen_evaluations = self.fitness_all()\n",
        "      selected_specimen = self.select_specimen(specimen_evaluations)\n",
        "      \n",
        "      self.specimen = self.generate_children(selected_specimen)\n",
        "      \n",
        "      generation_number += 1\n",
        "    \n",
        "    return best, max_eval"
      ],
      "execution_count": 5,
      "outputs": []
    },
    {
      "cell_type": "markdown",
      "metadata": {
        "id": "hnHAziSc1ChK",
        "colab_type": "text"
      },
      "source": [
        "To run the algorithm:"
      ]
    },
    {
      "cell_type": "code",
      "metadata": {
        "id": "_ssF5Z6S1FQ6",
        "colab_type": "code",
        "colab": {
          "base_uri": "https://localhost:8080/",
          "height": 349
        },
        "outputId": "6e48c80f-4ed7-49f3-e872-150e3198fab0",
        "tags": [
          "outputPrepend",
          "outputPrepend",
          "outputPrepend",
          "outputPrepend",
          "outputPrepend",
          "outputPrepend",
          "outputPrepend",
          "outputPrepend",
          "outputPrepend",
          "outputPrepend",
          "outputPrepend",
          "outputPrepend",
          "outputPrepend",
          "outputPrepend",
          "outputPrepend",
          "outputPrepend"
        ]
      },
      "source": [
        "class Item:\n",
        "  def __init__(self, value, weight):\n",
        "    self.value = value\n",
        "    self.weight = weight\n",
        "\n",
        "params = {\n",
        "    \"mutation_percentage\": 1,\n",
        "    \"select_top\": 0.5,\n",
        "    \"generation_size\": 100,\n",
        "    \"fit_threshold\": 1,\n",
        "    \"max_generations\": 100,\n",
        "    \"max_weight\": 15,\n",
        "    \"max_per_item\": 5,\n",
        "    \"items\": [Item(4, 12), Item(2, 2), Item(2, 1), Item(1, 1), Item(10,4)]\n",
        "}\n",
        "\n",
        "knapsack = KnapsackGenetic(params)\n",
        "knapsack.run()\n"
      ],
      "execution_count": 6,
      "outputs": [
        {
          "output_type": "stream",
          "name": "stdout",
          "text": "Generation #1:\t[0, 2, 1, 2, 2]\t0.29473684210526313\nGeneration #2:\t[0, 3, 5, 0, 1]\t0.2736842105263158\nGeneration #3:\t[0, 3, 0, 0, 2]\t0.2736842105263158\nGeneration #4:\t[0, 5, 3, 1, 0]\t0.17894736842105263\nGeneration #5:\t[0, 5, 2, 1, 0]\t0.15789473684210525\nGeneration #6:\t[0, 0, 1, 1, 3]\t0.3473684210526316\nGeneration #7:\t[0, 1, 2, 0, 1]\t0.16842105263157894\nGeneration #8:\t[0, 0, 3, 0, 3]\t0.37894736842105264\nGeneration #9:\t[0, 0, 5, 1, 2]\t0.3263157894736842\nGeneration #10:\t[0, 0, 1, 5, 2]\t0.28421052631578947\nGeneration #11:\t[0, 0, 2, 0, 3]\t0.35789473684210527\nGeneration #12:\t[0, 1, 4, 5, 0]\t0.15789473684210525\nGeneration #13:\t[0, 0, 4, 3, 2]\t0.3263157894736842\nGeneration #14:\t[0, 0, 4, 1, 2]\t0.30526315789473685\nGeneration #15:\t[0, 1, 1, 1, 2]\t0.2631578947368421\nGeneration #16:\t[0, 0, 0, 0, 3]\t0.3157894736842105\nGeneration #17:\t[0, 4, 0, 0, 1]\t0.18947368421052632\nGeneration #18:\t[0, 0, 2, 5, 2]\t0.30526315789473685\nGeneration #19:\t[0, 3, 3, 2, 1]\t0.25263157894736843\nGeneration #20:\t[0, 4, 0, 3, 1]\t0.22105263157894736\nGeneration #21:\t[0, 2, 2, 1, 2]\t0.30526315789473685\nGeneration #22:\t[0, 1, 5, 5, 0]\t0.17894736842105263\nGeneration #23:\t[0, 1, 3, 2, 2]\t0.3157894736842105\nGeneration #24:\t[0, 1, 2, 2, 0]\t0.08421052631578947\nGeneration #25:\t[0, 2, 3, 3, 1]\t0.24210526315789474\nGeneration #26:\t[0, 1, 4, 4, 1]\t0.25263157894736843\nGeneration #27:\t[0, 1, 0, 5, 2]\t0.28421052631578947\nGeneration #28:\t[0, 0, 3, 3, 2]\t0.30526315789473685\nGeneration #29:\t[0, 3, 3, 4, 0]\t0.16842105263157894\nGeneration #30:\t[0, 2, 2, 1, 2]\t0.30526315789473685\nGeneration #31:\t[0, 0, 2, 3, 2]\t0.28421052631578947\nGeneration #32:\t[0, 0, 2, 1, 3]\t0.3684210526315789\nGeneration #33:\t[0, 1, 4, 4, 1]\t0.25263157894736843\nGeneration #34:\t[0, 2, 5, 0, 1]\t0.25263157894736843\nGeneration #35:\t[0, 2, 0, 0, 2]\t0.25263157894736843\nGeneration #36:\t[0, 1, 4, 0, 2]\t0.3157894736842105\nGeneration #37:\t[3, 1, 1, 1, 2]\t0\nGeneration #38:\t[0, 1, 0, 5, 2]\t0.28421052631578947\nGeneration #39:\t[0, 0, 0, 5, 2]\t0.2631578947368421\nGeneration #40:\t[0, 2, 3, 0, 2]\t0.3157894736842105\nGeneration #41:\t[0, 2, 0, 1, 2]\t0.2631578947368421\nGeneration #42:\t[0, 1, 0, 5, 2]\t0.28421052631578947\nGeneration #43:\t[0, 3, 5, 0, 1]\t0.2736842105263158\nGeneration #44:\t[0, 1, 1, 0, 3]\t0.35789473684210527\nGeneration #45:\t[0, 1, 0, 0, 3]\t0.3368421052631579\nGeneration #46:\t[0, 0, 5, 2, 2]\t0.3368421052631579\nGeneration #47:\t[0, 0, 4, 3, 2]\t0.3263157894736842\nGeneration #48:\t[0, 1, 0, 1, 3]\t0.3473684210526316\nGeneration #49:\t[0, 0, 0, 2, 3]\t0.3368421052631579\nGeneration #50:\t[0, 0, 4, 1, 1]\t0.2\nGeneration #51:\t[0, 0, 1, 2, 3]\t0.35789473684210527\nGeneration #52:\t[0, 1, 0, 0, 3]\t0.3368421052631579\nGeneration #53:\t[0, 2, 0, 1, 2]\t0.2631578947368421\nGeneration #54:\t[0, 5, 5, 0, 0]\t0.21052631578947367\nGeneration #55:\t[0, 0, 3, 4, 1]\t0.21052631578947367\nGeneration #56:\t[0, 0, 2, 0, 3]\t0.35789473684210527\nGeneration #57:\t[0, 1, 4, 5, 1]\t0.2631578947368421\nGeneration #58:\t[1, 0, 1, 2, 0]\t0.08421052631578947\nGeneration #59:\t[0, 0, 4, 3, 2]\t0.3263157894736842\nGeneration #60:\t[0, 2, 2, 3, 1]\t0.22105263157894736\nGeneration #61:\t[0, 0, 0, 5, 2]\t0.2631578947368421\nGeneration #62:\t[0, 1, 5, 4, 1]\t0.2736842105263158\nGeneration #63:\t[0, 1, 3, 1, 2]\t0.30526315789473685\nGeneration #64:\t[0, 1, 5, 5, 0]\t0.17894736842105263\nGeneration #65:\t[0, 1, 3, 0, 2]\t0.29473684210526313\nGeneration #66:\t[0, 0, 5, 3, 1]\t0.24210526315789474\nGeneration #67:\t[0, 2, 5, 1, 1]\t0.2631578947368421\nGeneration #68:\t[0, 0, 2, 1, 2]\t0.2631578947368421\nGeneration #69:\t[0, 0, 3, 3, 2]\t0.30526315789473685\nGeneration #70:\t[0, 1, 2, 2, 2]\t0.29473684210526313\nGeneration #71:\t[0, 0, 1, 4, 1]\t0.16842105263157894\nGeneration #72:\t[0, 3, 1, 4, 1]\t0.23157894736842105\nGeneration #73:\t[0, 1, 1, 5, 1]\t0.2\nGeneration #74:\t[0, 4, 3, 3, 0]\t0.17894736842105263\nGeneration #75:\t[0, 0, 1, 4, 1]\t0.16842105263157894\nGeneration #76:\t[0, 0, 4, 0, 2]\t0.29473684210526313\nGeneration #77:\t[0, 0, 3, 3, 2]\t0.30526315789473685\nGeneration #78:\t[0, 5, 0, 5, 0]\t0.15789473684210525\nGeneration #79:\t[0, 2, 5, 0, 1]\t0.25263157894736843\nGeneration #80:\t[0, 3, 3, 1, 1]\t0.24210526315789474\nGeneration #81:\t[0, 3, 0, 4, 1]\t0.21052631578947367\nGeneration #82:\t[0, 2, 3, 0, 2]\t0.3157894736842105\nGeneration #83:\t[0, 2, 0, 2, 2]\t0.2736842105263158\nGeneration #84:\t[0, 0, 5, 0, 2]\t0.3157894736842105\nGeneration #85:\t[0, 1, 3, 4, 1]\t0.23157894736842105\nGeneration #86:\t[0, 0, 3, 2, 2]\t0.29473684210526313\nGeneration #87:\t[0, 3, 3, 5, 0]\t0.17894736842105263\nGeneration #88:\t[0, 4, 5, 2, 0]\t0.21052631578947367\nGeneration #89:\t[0, 2, 5, 0, 1]\t0.25263157894736843\nGeneration #90:\t[0, 2, 5, 0, 1]\t0.25263157894736843\nGeneration #91:\t[0, 1, 3, 2, 2]\t0.3157894736842105\nGeneration #92:\t[0, 0, 0, 2, 3]\t0.3368421052631579\nGeneration #93:\t[0, 2, 3, 1, 1]\t0.22105263157894736\nGeneration #94:\t[0, 5, 1, 0, 1]\t0.23157894736842105\nGeneration #95:\t[0, 1, 4, 0, 2]\t0.3157894736842105\nGeneration #96:\t[0, 0, 1, 4, 2]\t0.2736842105263158\nGeneration #97:\t[0, 3, 3, 2, 1]\t0.25263157894736843\nGeneration #98:\t[0, 0, 2, 5, 2]\t0.30526315789473685\nGeneration #99:\t[0, 1, 2, 0, 2]\t0.2736842105263158\nGeneration #100:\t[0, 2, 1, 1, 2]\t0.28421052631578947\n"
        },
        {
          "output_type": "execute_result",
          "data": {
            "text/plain": "([0, 0, 3, 0, 3], 0.37894736842105264)"
          },
          "metadata": {},
          "execution_count": 6
        }
      ]
    },
    {
      "cell_type": "code",
      "execution_count": null,
      "metadata": {},
      "outputs": [],
      "source": []
    }
  ],
  "metadata": {
    "colab": {
      "name": "knapsack-exercise.ipynb",
      "provenance": [],
      "collapsed_sections": []
    },
    "kernelspec": {
      "name": "python3",
      "display_name": "Python 3"
    }
  },
  "nbformat": 4,
  "nbformat_minor": 0
}